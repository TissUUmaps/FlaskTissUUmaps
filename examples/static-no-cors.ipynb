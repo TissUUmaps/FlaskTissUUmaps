{
 "cells": [
  {
   "cell_type": "code",
   "execution_count": 1,
   "metadata": {},
   "outputs": [],
   "source": [
    "import os\n",
    "import sys\n",
    "module_path = os.path.abspath(os.path.join('../'))\n",
    "if module_path not in sys.path:\n",
    "    sys.path.append(module_path)"
   ]
  },
  {
   "cell_type": "code",
   "execution_count": 2,
   "metadata": {},
   "outputs": [
    {
     "name": "stderr",
     "output_type": "stream",
     "text": [
      "INFO:root: * TissUUmaps version: 3.1.0.3\n"
     ]
    }
   ],
   "source": [
    "import tissuumaps\n",
    "import json\n",
    "import os"
   ]
  },
  {
   "cell_type": "code",
   "execution_count": 8,
   "metadata": {},
   "outputs": [],
   "source": [
    "input_folder   = r\"C:\\Users\\chrav452\\Downloads\"\n",
    "input_filename = \"151508_tmap.h5ad\"\n",
    "output_folder  = r\"./\"\n",
    "htmlFile = input_filename + \"_TissUUmaps.html\"\n",
    "\n",
    "state = tissuumaps.read_h5ad.h5ad_to_tmap(input_folder, input_filename)\n",
    "tissuumaps.views.exportToStatic(json.dumps(state), output_folder, input_folder, outputFile=htmlFile)\n",
    "tissuumaps.views.bundleHTMLtoOneFile(htmlFile)"
   ]
  },
  {
   "cell_type": "code",
   "execution_count": 12,
   "metadata": {
    "scrolled": false
   },
   "outputs": [
    {
     "data": {
      "text/html": [
       "\n",
       "        <iframe\n",
       "            width=\"100%\"\n",
       "            height=\"600\"\n",
       "            src=\"151508_tmap.h5ad_TissUUmaps.html\"\n",
       "            frameborder=\"0\"\n",
       "            allowfullscreen\n",
       "            \n",
       "        ></iframe>\n",
       "        "
      ],
      "text/plain": [
       "<IPython.lib.display.IFrame at 0x2c0aab2f820>"
      ]
     },
     "execution_count": 12,
     "metadata": {},
     "output_type": "execute_result"
    }
   ],
   "source": [
    "from IPython.display import IFrame\n",
    "\n",
    "IFrame(src=htmlFile, width=\"100%\", height=600)"
   ]
  },
  {
   "cell_type": "code",
   "execution_count": null,
   "metadata": {},
   "outputs": [],
   "source": []
  }
 ],
 "metadata": {
  "kernelspec": {
   "display_name": "Python 3 (ipykernel)",
   "language": "python",
   "name": "python3"
  },
  "language_info": {
   "codemirror_mode": {
    "name": "ipython",
    "version": 3
   },
   "file_extension": ".py",
   "mimetype": "text/x-python",
   "name": "python",
   "nbconvert_exporter": "python",
   "pygments_lexer": "ipython3",
   "version": "3.8.13"
  },
  "vscode": {
   "interpreter": {
    "hash": "84c1bf86e347ace437ea83f5b18906c50dcec965e9565a7423664e7b021dbf79"
   }
  }
 },
 "nbformat": 4,
 "nbformat_minor": 2
}
