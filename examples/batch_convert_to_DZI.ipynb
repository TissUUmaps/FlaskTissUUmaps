{
 "cells": [
  {
   "cell_type": "markdown",
   "metadata": {},
   "source": [
    "# Convert images to dzi using the TissUUmaps API\n",
    "\n",
    "Install the TissUUmaps pip package if not already installed (use `%pip install tissuumaps[full]` if you need the TissUUmaps gui):"
   ]
  },
  {
   "cell_type": "code",
   "execution_count": null,
   "metadata": {},
   "outputs": [],
   "source": [
    "%pip install tissuumaps"
   ]
  },
  {
   "cell_type": "markdown",
   "metadata": {},
   "source": [
    "Import TissUUmaps package and other dependencies:"
   ]
  },
  {
   "cell_type": "code",
   "execution_count": 1,
   "metadata": {},
   "outputs": [
    {
     "name": "stderr",
     "output_type": "stream",
     "text": [
      "INFO:root: * TissUUmaps version: 3.0.9.5\n",
      "\n"
     ]
    }
   ],
   "source": [
    "import tissuumaps.views as tfv\n",
    "import glob, os"
   ]
  },
  {
   "cell_type": "code",
   "execution_count": 3,
   "metadata": {},
   "outputs": [
    {
     "name": "stderr",
     "output_type": "stream",
     "text": [
      "INFO:pyvips.voperation:dzsave argument dirname is deprecated\n",
      "INFO:pyvips.voperation:dzsave argument dirname is deprecated\n",
      "INFO:pyvips.voperation:dzsave argument dirname is deprecated\n",
      "INFO:pyvips.voperation:dzsave argument dirname is deprecated\n"
     ]
    }
   ],
   "source": [
    "# Put all the images you want to convert to dzi in one folder\n",
    "imageDir = \"/path/to/my/tif/images/\"\n",
    "\n",
    "# Browse through the tif images and convert to dzi\n",
    "for tiffImage in glob.glob(os.path.join(imageDir, \"*.tif\")):\n",
    "    # Remove the tif extension to get the output filename:\n",
    "    dziPath, _ = os.path.splitext(tiffImage)\n",
    "    converter = tfv.ImageConverter(tiffImage, dziPath)\n",
    "    converter.convertToDZI()"
   ]
  }
 ],
 "metadata": {
  "kernelspec": {
   "display_name": "Python 3.8.13 ('tissuumaps')",
   "language": "python",
   "name": "python3"
  },
  "language_info": {
   "codemirror_mode": {
    "name": "ipython",
    "version": 3
   },
   "file_extension": ".py",
   "mimetype": "text/x-python",
   "name": "python",
   "nbconvert_exporter": "python",
   "pygments_lexer": "ipython3",
   "version": "3.8.13"
  },
  "orig_nbformat": 4,
  "vscode": {
   "interpreter": {
    "hash": "84c1bf86e347ace437ea83f5b18906c50dcec965e9565a7423664e7b021dbf79"
   }
  }
 },
 "nbformat": 4,
 "nbformat_minor": 2
}
